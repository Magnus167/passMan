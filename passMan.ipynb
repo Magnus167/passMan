{
 "cells": [
  {
   "cell_type": "code",
   "execution_count": 1,
   "metadata": {},
   "outputs": [
    {
     "data": {
      "text/plain": [
       "'CkOpAWP9gYlDIQnFyplt6ZchKD7bV3xSigCwNKsSOcXTLbgTyTsZGLhQR2XiCvEOTXrHvJHqcIIfQl8IKPbLZb'"
      ]
     },
     "execution_count": 1,
     "metadata": {},
     "output_type": "execute_result"
    }
   ],
   "source": [
    "import json\n",
    "import os\n",
    "import random\n",
    "import pyperclip\n",
    "import hashlib\n",
    "SRandInt = random.SystemRandom().randint\n",
    "def getTextFromClipboard():\n",
    "    return pyperclip.paste()\n",
    "\n",
    "def pasteTextToClipboard(text):\n",
    "    pyperclip.copy(text)\n",
    "    return True\n",
    "\n",
    "def dec_to_base(num,base=None, special_chars=False):  #Maximum base - 36\n",
    "    new_num    = \"\"\n",
    "    char_set_2  =['!@#$%^&*()_-;:<>?/\\|', 'abcdefghijklmnopqrstuvwxyz', 'ABCDEFGHIJKLMNOPQRSTUVWXYZ', '0123456789']\n",
    "    char_set    = char_set_2[0:] if special_chars else char_set_2[1:]\n",
    "    chrs        =''.join(char_set)\n",
    "    if base is None:\n",
    "        base    = len(chrs)\n",
    "    while num>0:\n",
    "        dig     = int(num%base)\n",
    "        new_num = chrs[dig % len(chrs)] + new_num\n",
    "        num     //= base\n",
    "    new_num = new_num[::-1]  #To reverse the string\n",
    "    return new_num\n",
    "\n",
    "def getHash(string):\n",
    "    return int(int(hashlib.sha256(string.encode('utf-8')).hexdigest(), 16)**2)\n",
    "\n",
    "dec_to_base(getHash('hello'))"
   ]
  },
  {
   "cell_type": "code",
   "execution_count": 2,
   "metadata": {},
   "outputs": [],
   "source": [
    "def add_passDict_to_passFile(passDict, passFile):\n",
    "    index = max([int(k) for k in passFile['passwords'].keys()]) + 1 if len(passFile['passwords'].keys()) > 0 else 1\n",
    "    passFile['passwords'][index] = passDict\n",
    "    return passFile\n",
    "\n",
    "def get_passFile(fileName='pass.json'):\n",
    "    import json\n",
    "    passFile = None\n",
    "    seed=''.join([str(SRandInt(0, 9)) for I in range(15)])\n",
    "    if not os.path.isfile(fileName):\n",
    "        with open(fileName, 'w') as f:\n",
    "            json.dump({'seed': seed, 'passwords': {}}, f)\n",
    "    with open(fileName, 'r') as f:\n",
    "        passFile = json.load(f)\n",
    "    return passFile\n",
    "\n",
    "def DeletePassFile(fileName='pass.json'):\n",
    "    if os.path.isfile(fileName):\n",
    "        os.remove(fileName)\n",
    "        return True\n",
    "    else:\n",
    "        return False\n",
    "\n",
    "def add_to_passFile(passDicts=[], fileName='pass.json'):\n",
    "    passFile        = get_passFile(fileName)    \n",
    "    for passDict in passDicts:\n",
    "        passFile = add_passDict_to_passFile(passDict, passFile)\n",
    "\n",
    "    with open(fileName, 'w') as f:\n",
    "        json.dump(passFile, f)\n",
    "\n",
    "def create_pwd_dict(username, website, length=14):\n",
    "    return {\n",
    "        'username': username,\n",
    "        'website': website,\n",
    "        'length': length\n",
    "    }\n",
    "\n",
    "\n",
    "\n",
    "def get_password(index, passFile, website=None, username=None):\n",
    "    if type(index) is int:\n",
    "        index = str(index)\n",
    "    username, website, seed = passFile['passwords'][index]['username'], passFile['passwords'][index]['website'], passFile['seed']\n",
    "    hStr = username + website + str(index) + str(getHash(seed)) + seed + seed[::-1]\n",
    "    return dec_to_base(getHash(hStr), special_chars=True)[:passFile['passwords'][index]['length']]\n",
    "\n",
    "def passFile_to_list(passFile, website=None):    \n",
    "    if website is None:\n",
    "        return [[passFile['passwords'][k]['website'] , passFile['passwords'][k]['username'],get_password(k, passFile)] for k in passFile['passwords'].keys()]\n",
    "    l = passFile_to_list(passFile)\n",
    "    return [i for i in l if website in i[0]]\n",
    "\n",
    "def get_password_for_website(website, passFile=get_passFile()):\n",
    "    return passFile_to_list(passFile, website)\n"
   ]
  },
  {
   "cell_type": "code",
   "execution_count": 3,
   "metadata": {},
   "outputs": [],
   "source": [
    "def AddPassword(username, website, length=14):\n",
    "    add_to_passFile(passDicts=[create_pwd_dict(username, website, length)])\n",
    "\n",
    "def GetPasswords(website=None, username=None, passFile=None):\n",
    "    if website is None:\n",
    "        website = input('Website: ')\n",
    "        if website.strip() == '':\n",
    "            website = getTextFromClipboard()\n",
    "    if passFile is None:\n",
    "        passFile = get_passFile()\n",
    "    pwd = get_password_for_website(website, passFile)\n",
    "    if pwd is None:\n",
    "        print('No passwords found for ' + website)\n",
    "        # return -1\n",
    "    elif len(pwd) == 1:\n",
    "        print('Copied to clipboard!')\n",
    "        pasteTextToClipboard(pwd[0][2])\n",
    "        # return 0\n",
    "    else:\n",
    "        print('Multiple passwords found for ' + website)\n",
    "        print('Specify Username:')\n",
    "        if username is None:\n",
    "            username = input('Username: ')\n",
    "            if username.strip() == '':\n",
    "                username = getTextFromClipboard()\n",
    "        l = [i for i in pwd if i[1] == username]\n",
    "        if len(l) == 1:\n",
    "            print('Copied to clipboard!')\n",
    "            pasteTextToClipboard(l[0][2])\n",
    "        elif len(l) == 0:\n",
    "            print('No passwords found for ' + website + ' with username ' + username)\n",
    "        else:\n",
    "            print('Multiple passwords found for ' + website + ' and username ' + username)\n",
    "            print('Copying most recent password')\n",
    "            pasteTextToClipboard(l[-1][2])"
   ]
  },
  {
   "cell_type": "code",
   "execution_count": 4,
   "metadata": {},
   "outputs": [
    {
     "data": {
      "text/plain": [
       "[['github.com', 'user1', '^cc7ywol)UX_E3'],\n",
       " ['google.com', 'user2', '#*C#t#;eexxAnN'],\n",
       " ['facebook.com', 'user3', ')&hFgMtgRRAV1t']]"
      ]
     },
     "execution_count": 4,
     "metadata": {},
     "output_type": "execute_result"
    }
   ],
   "source": [
    "\n",
    "AddPassword(username='user1', website='github.com')\n",
    "AddPassword(username='user2', website='google.com')\n",
    "AddPassword(username='user3', website='facebook.com')\n",
    "passFile_to_list(get_passFile())"
   ]
  },
  {
   "cell_type": "code",
   "execution_count": 5,
   "metadata": {},
   "outputs": [
    {
     "name": "stdout",
     "output_type": "stream",
     "text": [
      "Copied to clipboard!\n"
     ]
    }
   ],
   "source": [
    "GetPasswords(website='google.com')"
   ]
  },
  {
   "cell_type": "code",
   "execution_count": 6,
   "metadata": {},
   "outputs": [
    {
     "data": {
      "text/plain": [
       "[]"
      ]
     },
     "execution_count": 6,
     "metadata": {},
     "output_type": "execute_result"
    }
   ],
   "source": [
    "get_password_for_website('google.com')"
   ]
  },
  {
   "cell_type": "code",
   "execution_count": 7,
   "metadata": {},
   "outputs": [],
   "source": [
    "# DeletePassFile('pass.json')"
   ]
  }
 ],
 "metadata": {
  "interpreter": {
   "hash": "82d133e37cc4ce819137925968dd7cc5b4ce9fca12643606578bb14597479d96"
  },
  "kernelspec": {
   "display_name": "Python 3.9.12 ('jarphys2')",
   "language": "python",
   "name": "python3"
  },
  "language_info": {
   "codemirror_mode": {
    "name": "ipython",
    "version": 3
   },
   "file_extension": ".py",
   "mimetype": "text/x-python",
   "name": "python",
   "nbconvert_exporter": "python",
   "pygments_lexer": "ipython3",
   "version": "3.9.12"
  },
  "orig_nbformat": 4
 },
 "nbformat": 4,
 "nbformat_minor": 2
}
