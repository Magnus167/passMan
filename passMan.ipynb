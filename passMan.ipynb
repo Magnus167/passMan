{
 "cells": [
  {
   "cell_type": "markdown",
   "metadata": {},
   "source": [
    "# Implementation of passMan"
   ]
  },
  {
   "cell_type": "markdown",
   "metadata": {},
   "source": [
    "### Import, declaring hash, charmap, and clipboard functions"
   ]
  },
  {
   "cell_type": "code",
   "execution_count": 1,
   "metadata": {},
   "outputs": [],
   "source": [
    "import json\n",
    "import os\n",
    "import random\n",
    "import pyperclip\n",
    "import hashlib\n",
    "SRandInt = random.SystemRandom().randint\n",
    "def getTextFromClipboard():\n",
    "    return pyperclip.paste()\n",
    "\n",
    "def pasteTextToClipboard(text):\n",
    "    pyperclip.copy(text)\n",
    "    return True\n",
    "\n",
    "def dec_to_base(num,base=None, special_chars=False):  #Maximum base - 36\n",
    "    new_num    = \"\"\n",
    "    char_set_2  =['!@#$%^&*()_-;:<>?/\\|', 'abcdefghijklmnopqrstuvwxyz', 'ABCDEFGHIJKLMNOPQRSTUVWXYZ', '0123456789']\n",
    "    char_set    = char_set_2[0:] if special_chars else char_set_2[1:]\n",
    "    chrs        =''.join(char_set)\n",
    "    if base is None:\n",
    "        base    = len(chrs)\n",
    "    while num>0:\n",
    "        dig     = int(num%base)\n",
    "        new_num = chrs[dig % len(chrs)] + new_num\n",
    "        num     //= base\n",
    "    new_num = new_num[::-1]  #To reverse the string\n",
    "    return new_num\n",
    "\n",
    "def getHash(string):\n",
    "    return int(int(hashlib.sha256(string.encode('utf-8')).hexdigest(), 16)**2)\n",
    "\n",
    "def getSeed(n=1000):\n",
    "    return ''.join([str(SRandInt(0, 9)) for I in range(n)])"
   ]
  },
  {
   "cell_type": "markdown",
   "metadata": {},
   "source": [
    "### functions\n",
    "- passFile is a dictionary of type `{seed: seed, passwords : { '1' : {'website':...`\n",
    "- passFile_toList is a function that converts passFile to a list, and allows selection using website name"
   ]
  },
  {
   "cell_type": "code",
   "execution_count": 2,
   "metadata": {},
   "outputs": [],
   "source": [
    "def add_passDict_to_passFile(passDict, passFile):\n",
    "    index = max([int(k) for k in passFile['passwords'].keys()]) + 1 if len(passFile['passwords'].keys()) > 0 else 1\n",
    "    passFile['passwords'][index] = passDict\n",
    "    return passFile\n",
    "\n",
    "def get_passFile(fileName='pass.json'):\n",
    "    passFile = None\n",
    "    seed=getSeed()\n",
    "    if not os.path.isfile(fileName):\n",
    "        with open(fileName, 'w') as f:\n",
    "            json.dump({'seed': seed, 'passwords': {}}, f)\n",
    "    with open(fileName, 'r') as f:\n",
    "        passFile = json.load(f)\n",
    "    return passFile\n",
    "\n",
    "def DeletePassFile(fileName='pass.json'):\n",
    "    if os.path.isfile(fileName):\n",
    "        os.remove(fileName)\n",
    "        return True\n",
    "    else:\n",
    "        return False\n",
    "\n",
    "def add_to_passFile(passDicts=[], fileName='pass.json'):\n",
    "    passFile        = get_passFile(fileName)    \n",
    "    for passDict in passDicts:\n",
    "        passFile = add_passDict_to_passFile(passDict, passFile)\n",
    "\n",
    "    with open(fileName, 'w') as f:\n",
    "        json.dump(passFile, f)\n",
    "    return passFile\n",
    "\n",
    "def create_pwd_dict(username, website, special_chars=False, length=14):\n",
    "    return {'username': username, 'website': website, 'length': length, 'special_chars': special_chars}\n",
    "\n",
    "def get_password(index, passFile, website=None, username=None):\n",
    "    if type(index) is int:\n",
    "        index = str(index)\n",
    "    username, website, seed = passFile['passwords'][index]['username'], passFile['passwords'][index]['website'], passFile['seed']\n",
    "    hStr = username + website + str(index) + str(getHash(seed)) + seed + seed[::-1]\n",
    "    return dec_to_base(getHash(hStr), special_chars=passFile['passwords'][index]['special_chars'])[:passFile['passwords'][index]['length']]\n",
    "\n",
    "def passFile_to_list(passFile, website=None):    \n",
    "    if website is None:\n",
    "        return [[passFile['passwords'][k]['website'] , passFile['passwords'][k]['username'],get_password(k, passFile)] for k in passFile['passwords'].keys()]\n",
    "    l = passFile_to_list(passFile)\n",
    "    return [i for i in l if website in i[0]]\n",
    "\n",
    "def get_password_for_website(website, passFile=None):\n",
    "    if passFile is None:\n",
    "        passFile = get_passFile()\n",
    "    return passFile_to_list(passFile=passFile, website=website)\n"
   ]
  },
  {
   "cell_type": "markdown",
   "metadata": {},
   "source": [
    "### Adding top level functions"
   ]
  },
  {
   "cell_type": "code",
   "execution_count": 3,
   "metadata": {},
   "outputs": [],
   "source": [
    "def AddPassword(username, website, length=14, special_chars=False, passFile=None):\n",
    "    add_to_passFile(passDicts=[create_pwd_dict(username=username, website=website, length=length, special_chars=special_chars)] , fileName='pass.json')\n",
    "\n",
    "def GetPasswords(website=None, username=None, passFile=None):\n",
    "    if website is None:\n",
    "        website = input('Website: ')\n",
    "        if website.strip() == '':\n",
    "            website = getTextFromClipboard()\n",
    "    if passFile is None:\n",
    "        passFile = get_passFile()\n",
    "    pwd = get_password_for_website(website, passFile)\n",
    "    if pwd is None:\n",
    "        print('No passwords found for ' + website)\n",
    "        # return -1\n",
    "    elif len(pwd) == 1:\n",
    "        print('Copied to clipboard!')\n",
    "        pasteTextToClipboard(pwd[0][2])\n",
    "        # return 0\n",
    "    else:\n",
    "        print('Multiple passwords found for ' + website)\n",
    "        print('Specify Username:')\n",
    "        if username is None:\n",
    "            username = input('Username: ')\n",
    "            if username.strip() == '':\n",
    "                username = getTextFromClipboard()\n",
    "        l = [i for i in pwd if i[1] == username]\n",
    "        if len(l) == 1:\n",
    "            print('Copied to clipboard!')\n",
    "            pasteTextToClipboard(l[0][2])\n",
    "        elif len(l) == 0:\n",
    "            print('No passwords found for ' + website + ' with username ' + username)\n",
    "        else:\n",
    "            print('Multiple passwords found for ' + website + ' and username ' + username)\n",
    "            print('Copying most recent password')\n",
    "            pasteTextToClipboard(l[-1][2])"
   ]
  },
  {
   "cell_type": "markdown",
   "metadata": {},
   "source": [
    "## Breakdown and runnning the notebook"
   ]
  },
  {
   "cell_type": "code",
   "execution_count": 4,
   "metadata": {},
   "outputs": [
    {
     "data": {
      "text/plain": [
       "413303971471188822875652362255993467374868283919722305284465395822324048964002785045033324791520964001278634827618252814355326521394268033432013378864400"
      ]
     },
     "execution_count": 4,
     "metadata": {},
     "output_type": "execute_result"
    }
   ],
   "source": [
    "getHash('hello') # get integer value of the sha256 hash of the string 'hello'"
   ]
  },
  {
   "cell_type": "code",
   "execution_count": 5,
   "metadata": {},
   "outputs": [
    {
     "data": {
      "text/plain": [
       "'CkOpAWP9gYlDIQnFyplt6ZchKD7bV3xSigCwNKsSOcXTLbgTyTsZGLhQR2XiCvEOTXrHvJHqcIIfQl8IKPbLZb'"
      ]
     },
     "execution_count": 5,
     "metadata": {},
     "output_type": "execute_result"
    }
   ],
   "source": [
    "dec_to_base(getHash('hello'), special_chars=False) "
   ]
  },
  {
   "cell_type": "code",
   "execution_count": 6,
   "metadata": {},
   "outputs": [
    {
     "data": {
      "text/plain": [
       "'\\\\76Dl#SdOD9/-I_uLT-OTYq#B/iJfa?5e5vv^_Ahn@?yR>\\\\Z;g4)wJM!GBa5D#<cc;$%a7_-O&t>6IDg'"
      ]
     },
     "execution_count": 6,
     "metadata": {},
     "output_type": "execute_result"
    }
   ],
   "source": [
    "dec_to_base(getHash('hello'), special_chars=True) "
   ]
  },
  {
   "cell_type": "code",
   "execution_count": 7,
   "metadata": {},
   "outputs": [
    {
     "data": {
      "text/plain": [
       "{'username': 'userA',\n",
       " 'website': 'websiteA',\n",
       " 'length': 14,\n",
       " 'special_chars': False}"
      ]
     },
     "execution_count": 7,
     "metadata": {},
     "output_type": "execute_result"
    }
   ],
   "source": [
    "create_pwd_dict(username='userA', website='websiteA', length=14)"
   ]
  },
  {
   "cell_type": "code",
   "execution_count": 8,
   "metadata": {},
   "outputs": [
    {
     "data": {
      "text/plain": [
       "[['github.com', 'user1', 'xJKx$0^9amLXM('],\n",
       " ['google.com', 'user2', 'kHRMUGPgwzpeMLhKrfme73KKR0aEGk'],\n",
       " ['facebook.com', 'user3', 'GYM4fVKFElhKiv']]"
      ]
     },
     "execution_count": 8,
     "metadata": {},
     "output_type": "execute_result"
    }
   ],
   "source": [
    "# Demonstates using AddPassword to add different types of passwords\n",
    "AddPassword(username='user1', website='github.com', special_chars=True)\n",
    "AddPassword(username='user2', website='google.com', length=30)\n",
    "AddPassword(username='user3', website='facebook.com')\n",
    "\n",
    "passFile_to_list(get_passFile())"
   ]
  },
  {
   "cell_type": "code",
   "execution_count": 9,
   "metadata": {},
   "outputs": [
    {
     "name": "stdout",
     "output_type": "stream",
     "text": [
      "Copied to clipboard!\n"
     ]
    }
   ],
   "source": [
    "GetPasswords(website='google.com') # copies result to clipboard"
   ]
  },
  {
   "cell_type": "code",
   "execution_count": 10,
   "metadata": {},
   "outputs": [
    {
     "data": {
      "text/plain": [
       "[['facebook.com', 'user3', 'GYM4fVKFElhKiv']]"
      ]
     },
     "execution_count": 10,
     "metadata": {},
     "output_type": "execute_result"
    }
   ],
   "source": [
    "get_password_for_website(website='facebook.com') # not secure, only used for testing and internal functions"
   ]
  },
  {
   "cell_type": "code",
   "execution_count": 11,
   "metadata": {},
   "outputs": [],
   "source": [
    "# finally delete the passFile if you're testing. if not, ignore this bit\n",
    "DeletePassFile('pass.json')"
   ]
  }
 ],
 "metadata": {
  "interpreter": {
   "hash": "82d133e37cc4ce819137925968dd7cc5b4ce9fca12643606578bb14597479d96"
  },
  "kernelspec": {
   "display_name": "Python 3.9.12 ('jarphys2')",
   "language": "python",
   "name": "python3"
  },
  "language_info": {
   "codemirror_mode": {
    "name": "ipython",
    "version": 3
   },
   "file_extension": ".py",
   "mimetype": "text/x-python",
   "name": "python",
   "nbconvert_exporter": "python",
   "pygments_lexer": "ipython3",
   "version": "3.9.12"
  },
  "orig_nbformat": 4
 },
 "nbformat": 4,
 "nbformat_minor": 2
}
